{
 "cells": [
  {
   "cell_type": "code",
   "execution_count": 376,
   "metadata": {},
   "outputs": [],
   "source": [
    "import pandas as pd"
   ]
  },
  {
   "cell_type": "code",
   "execution_count": 377,
   "metadata": {},
   "outputs": [],
   "source": [
    "train = pd.read_csv('train.csv', index_col='_id')"
   ]
  },
  {
   "cell_type": "code",
   "execution_count": 378,
   "metadata": {},
   "outputs": [
    {
     "data": {
      "text/html": [
       "<div>\n",
       "<style scoped>\n",
       "    .dataframe tbody tr th:only-of-type {\n",
       "        vertical-align: middle;\n",
       "    }\n",
       "\n",
       "    .dataframe tbody tr th {\n",
       "        vertical-align: top;\n",
       "    }\n",
       "\n",
       "    .dataframe thead th {\n",
       "        text-align: right;\n",
       "    }\n",
       "</style>\n",
       "<table border=\"1\" class=\"dataframe\">\n",
       "  <thead>\n",
       "    <tr style=\"text-align: right;\">\n",
       "      <th></th>\n",
       "      <th>age</th>\n",
       "      <th>job</th>\n",
       "      <th>marital</th>\n",
       "      <th>education</th>\n",
       "      <th>default</th>\n",
       "      <th>housing</th>\n",
       "      <th>loan</th>\n",
       "      <th>contact</th>\n",
       "      <th>month</th>\n",
       "      <th>day_of_week</th>\n",
       "      <th>...</th>\n",
       "      <th>campaign</th>\n",
       "      <th>pdays</th>\n",
       "      <th>previous</th>\n",
       "      <th>poutcome</th>\n",
       "      <th>emp.var.rate</th>\n",
       "      <th>cons.price.idx</th>\n",
       "      <th>cons.conf.idx</th>\n",
       "      <th>euribor3m</th>\n",
       "      <th>nr.employed</th>\n",
       "      <th>target</th>\n",
       "    </tr>\n",
       "    <tr>\n",
       "      <th>_id</th>\n",
       "      <th></th>\n",
       "      <th></th>\n",
       "      <th></th>\n",
       "      <th></th>\n",
       "      <th></th>\n",
       "      <th></th>\n",
       "      <th></th>\n",
       "      <th></th>\n",
       "      <th></th>\n",
       "      <th></th>\n",
       "      <th></th>\n",
       "      <th></th>\n",
       "      <th></th>\n",
       "      <th></th>\n",
       "      <th></th>\n",
       "      <th></th>\n",
       "      <th></th>\n",
       "      <th></th>\n",
       "      <th></th>\n",
       "      <th></th>\n",
       "      <th></th>\n",
       "    </tr>\n",
       "  </thead>\n",
       "  <tbody>\n",
       "    <tr>\n",
       "      <th>df7489733b004bbe40d3d37b34f82419</th>\n",
       "      <td>54</td>\n",
       "      <td>technician</td>\n",
       "      <td>married</td>\n",
       "      <td>professional.course</td>\n",
       "      <td>unknown</td>\n",
       "      <td>no</td>\n",
       "      <td>no</td>\n",
       "      <td>cellular</td>\n",
       "      <td>aug</td>\n",
       "      <td>tue</td>\n",
       "      <td>...</td>\n",
       "      <td>1</td>\n",
       "      <td>999</td>\n",
       "      <td>0</td>\n",
       "      <td>nonexistent</td>\n",
       "      <td>1.4</td>\n",
       "      <td>93.444</td>\n",
       "      <td>-36.1</td>\n",
       "      <td>4.963</td>\n",
       "      <td>5228.1</td>\n",
       "      <td>0</td>\n",
       "    </tr>\n",
       "    <tr>\n",
       "      <th>905a0b9a5456ee962223033473666be3</th>\n",
       "      <td>36</td>\n",
       "      <td>services</td>\n",
       "      <td>single</td>\n",
       "      <td>basic.4y</td>\n",
       "      <td>no</td>\n",
       "      <td>no</td>\n",
       "      <td>no</td>\n",
       "      <td>telephone</td>\n",
       "      <td>may</td>\n",
       "      <td>mon</td>\n",
       "      <td>...</td>\n",
       "      <td>1</td>\n",
       "      <td>999</td>\n",
       "      <td>0</td>\n",
       "      <td>nonexistent</td>\n",
       "      <td>1.1</td>\n",
       "      <td>93.994</td>\n",
       "      <td>-36.4</td>\n",
       "      <td>4.857</td>\n",
       "      <td>5191.0</td>\n",
       "      <td>0</td>\n",
       "    </tr>\n",
       "    <tr>\n",
       "      <th>02d69c07ec6d68e31d641edd45ce61cd</th>\n",
       "      <td>53</td>\n",
       "      <td>blue-collar</td>\n",
       "      <td>married</td>\n",
       "      <td>basic.4y</td>\n",
       "      <td>no</td>\n",
       "      <td>yes</td>\n",
       "      <td>no</td>\n",
       "      <td>cellular</td>\n",
       "      <td>aug</td>\n",
       "      <td>mon</td>\n",
       "      <td>...</td>\n",
       "      <td>1</td>\n",
       "      <td>999</td>\n",
       "      <td>0</td>\n",
       "      <td>nonexistent</td>\n",
       "      <td>1.4</td>\n",
       "      <td>93.444</td>\n",
       "      <td>-36.1</td>\n",
       "      <td>4.965</td>\n",
       "      <td>5228.1</td>\n",
       "      <td>0</td>\n",
       "    </tr>\n",
       "    <tr>\n",
       "      <th>e492fbe0cccaf67cdb5c0944dbc8a167</th>\n",
       "      <td>34</td>\n",
       "      <td>blue-collar</td>\n",
       "      <td>married</td>\n",
       "      <td>basic.9y</td>\n",
       "      <td>no</td>\n",
       "      <td>yes</td>\n",
       "      <td>yes</td>\n",
       "      <td>telephone</td>\n",
       "      <td>may</td>\n",
       "      <td>wed</td>\n",
       "      <td>...</td>\n",
       "      <td>2</td>\n",
       "      <td>999</td>\n",
       "      <td>0</td>\n",
       "      <td>nonexistent</td>\n",
       "      <td>1.1</td>\n",
       "      <td>93.994</td>\n",
       "      <td>-36.4</td>\n",
       "      <td>4.857</td>\n",
       "      <td>5191.0</td>\n",
       "      <td>0</td>\n",
       "    </tr>\n",
       "    <tr>\n",
       "      <th>ac2dc6f5835bdea8e71dd99b65208d07</th>\n",
       "      <td>29</td>\n",
       "      <td>services</td>\n",
       "      <td>single</td>\n",
       "      <td>university.degree</td>\n",
       "      <td>no</td>\n",
       "      <td>yes</td>\n",
       "      <td>no</td>\n",
       "      <td>telephone</td>\n",
       "      <td>aug</td>\n",
       "      <td>fri</td>\n",
       "      <td>...</td>\n",
       "      <td>1</td>\n",
       "      <td>999</td>\n",
       "      <td>0</td>\n",
       "      <td>nonexistent</td>\n",
       "      <td>-1.7</td>\n",
       "      <td>94.027</td>\n",
       "      <td>-38.3</td>\n",
       "      <td>0.890</td>\n",
       "      <td>4991.6</td>\n",
       "      <td>0</td>\n",
       "    </tr>\n",
       "  </tbody>\n",
       "</table>\n",
       "<p>5 rows × 21 columns</p>\n",
       "</div>"
      ],
      "text/plain": [
       "                                  age          job  marital  \\\n",
       "_id                                                           \n",
       "df7489733b004bbe40d3d37b34f82419   54   technician  married   \n",
       "905a0b9a5456ee962223033473666be3   36     services   single   \n",
       "02d69c07ec6d68e31d641edd45ce61cd   53  blue-collar  married   \n",
       "e492fbe0cccaf67cdb5c0944dbc8a167   34  blue-collar  married   \n",
       "ac2dc6f5835bdea8e71dd99b65208d07   29     services   single   \n",
       "\n",
       "                                            education  default housing loan  \\\n",
       "_id                                                                           \n",
       "df7489733b004bbe40d3d37b34f82419  professional.course  unknown      no   no   \n",
       "905a0b9a5456ee962223033473666be3             basic.4y       no      no   no   \n",
       "02d69c07ec6d68e31d641edd45ce61cd             basic.4y       no     yes   no   \n",
       "e492fbe0cccaf67cdb5c0944dbc8a167             basic.9y       no     yes  yes   \n",
       "ac2dc6f5835bdea8e71dd99b65208d07    university.degree       no     yes   no   \n",
       "\n",
       "                                    contact month day_of_week   ...    \\\n",
       "_id                                                             ...     \n",
       "df7489733b004bbe40d3d37b34f82419   cellular   aug         tue   ...     \n",
       "905a0b9a5456ee962223033473666be3  telephone   may         mon   ...     \n",
       "02d69c07ec6d68e31d641edd45ce61cd   cellular   aug         mon   ...     \n",
       "e492fbe0cccaf67cdb5c0944dbc8a167  telephone   may         wed   ...     \n",
       "ac2dc6f5835bdea8e71dd99b65208d07  telephone   aug         fri   ...     \n",
       "\n",
       "                                  campaign  pdays  previous     poutcome  \\\n",
       "_id                                                                        \n",
       "df7489733b004bbe40d3d37b34f82419         1    999         0  nonexistent   \n",
       "905a0b9a5456ee962223033473666be3         1    999         0  nonexistent   \n",
       "02d69c07ec6d68e31d641edd45ce61cd         1    999         0  nonexistent   \n",
       "e492fbe0cccaf67cdb5c0944dbc8a167         2    999         0  nonexistent   \n",
       "ac2dc6f5835bdea8e71dd99b65208d07         1    999         0  nonexistent   \n",
       "\n",
       "                                 emp.var.rate  cons.price.idx  cons.conf.idx  \\\n",
       "_id                                                                            \n",
       "df7489733b004bbe40d3d37b34f82419          1.4          93.444          -36.1   \n",
       "905a0b9a5456ee962223033473666be3          1.1          93.994          -36.4   \n",
       "02d69c07ec6d68e31d641edd45ce61cd          1.4          93.444          -36.1   \n",
       "e492fbe0cccaf67cdb5c0944dbc8a167          1.1          93.994          -36.4   \n",
       "ac2dc6f5835bdea8e71dd99b65208d07         -1.7          94.027          -38.3   \n",
       "\n",
       "                                  euribor3m  nr.employed  target  \n",
       "_id                                                               \n",
       "df7489733b004bbe40d3d37b34f82419      4.963       5228.1       0  \n",
       "905a0b9a5456ee962223033473666be3      4.857       5191.0       0  \n",
       "02d69c07ec6d68e31d641edd45ce61cd      4.965       5228.1       0  \n",
       "e492fbe0cccaf67cdb5c0944dbc8a167      4.857       5191.0       0  \n",
       "ac2dc6f5835bdea8e71dd99b65208d07      0.890       4991.6       0  \n",
       "\n",
       "[5 rows x 21 columns]"
      ]
     },
     "execution_count": 378,
     "metadata": {},
     "output_type": "execute_result"
    }
   ],
   "source": [
    "train.head()"
   ]
  },
  {
   "cell_type": "code",
   "execution_count": 379,
   "metadata": {},
   "outputs": [],
   "source": [
    "y = train['target']\n",
    "train = train.drop(['target','month','day_of_week'], axis=1) # убрал месяц и день недели так как они \n",
    "                                                            # никакого влияния на результат иметь не должны"
   ]
  },
  {
   "cell_type": "code",
   "execution_count": 380,
   "metadata": {},
   "outputs": [],
   "source": [
    "tr = pd.get_dummies(train)\n",
    "tr = tr.drop(['contact_telephone'], axis=1)"
   ]
  },
  {
   "cell_type": "code",
   "execution_count": 381,
   "metadata": {},
   "outputs": [],
   "source": [
    "from sklearn.cross_validation import train_test_split\n",
    "xTrain, xTest, yTrain, yTest = train_test_split(tr, y, test_size=0.3, random_state=42)"
   ]
  },
  {
   "cell_type": "code",
   "execution_count": 382,
   "metadata": {},
   "outputs": [],
   "source": [
    "from sklearn.tree import DecisionTreeClassifier\n",
    "from sklearn.neighbors import KNeighborsClassifier\n",
    "from sklearn.linear_model import LogisticRegression"
   ]
  },
  {
   "cell_type": "code",
   "execution_count": 383,
   "metadata": {},
   "outputs": [
    {
     "data": {
      "text/plain": [
       "LogisticRegression(C=1.0, class_weight=None, dual=False, fit_intercept=True,\n",
       "          intercept_scaling=1, max_iter=100, multi_class='ovr', n_jobs=1,\n",
       "          penalty='l2', random_state=None, solver='liblinear', tol=0.0001,\n",
       "          verbose=0, warm_start=False)"
      ]
     },
     "execution_count": 383,
     "metadata": {},
     "output_type": "execute_result"
    }
   ],
   "source": [
    "dtc = DecisionTreeClassifier(max_depth=5, criterion = 'entropy')\n",
    "dtc.fit(xTrain, yTrain)\n",
    "\n",
    "knn = KNeighborsClassifier(n_neighbors=111) \n",
    "knn.fit(xTrain, yTrain)\n",
    "\n",
    "lr = LogisticRegression()\n",
    "lr.fit(xTrain, yTrain)"
   ]
  },
  {
   "cell_type": "code",
   "execution_count": 384,
   "metadata": {},
   "outputs": [],
   "source": [
    "from sklearn.metrics import roc_auc_score"
   ]
  },
  {
   "cell_type": "code",
   "execution_count": 385,
   "metadata": {},
   "outputs": [
    {
     "data": {
      "text/plain": [
       "0.9279925832493434"
      ]
     },
     "execution_count": 385,
     "metadata": {},
     "output_type": "execute_result"
    }
   ],
   "source": [
    "roc_auc_score(yTest, dtc.predict_proba(xTest)[:,1])"
   ]
  },
  {
   "cell_type": "code",
   "execution_count": 386,
   "metadata": {},
   "outputs": [
    {
     "data": {
      "text/plain": [
       "0.9285551038180813"
      ]
     },
     "execution_count": 386,
     "metadata": {},
     "output_type": "execute_result"
    }
   ],
   "source": [
    "roc_auc_score(yTest, knn.predict_proba(xTest)[:,1]) # n_neighbors=111 дает наилучший результат \n",
    "                                                    # получено методом тыка"
   ]
  },
  {
   "cell_type": "code",
   "execution_count": 387,
   "metadata": {},
   "outputs": [
    {
     "data": {
      "text/plain": [
       "0.9268587865766995"
      ]
     },
     "execution_count": 387,
     "metadata": {},
     "output_type": "execute_result"
    }
   ],
   "source": [
    "roc_auc_score(yTest, lr.predict_proba(xTest)[:,1])"
   ]
  },
  {
   "cell_type": "code",
   "execution_count": null,
   "metadata": {},
   "outputs": [],
   "source": []
  },
  {
   "cell_type": "code",
   "execution_count": 268,
   "metadata": {},
   "outputs": [
    {
     "data": {
      "text/plain": [
       "array([0.93257383, 0.92668102, 0.93577398, 0.94085531, 0.93199934,\n",
       "       0.91825848, 0.94443627, 0.9368559 , 0.92419869, 0.93071273])"
      ]
     },
     "execution_count": 268,
     "metadata": {},
     "output_type": "execute_result"
    }
   ],
   "source": [
    "from sklearn.cross_validation import cross_val_score\n",
    "\n",
    "dtc1 = DecisionTreeClassifier(max_depth=5, criterion = 'entropy')\n",
    "cross_val_score(\n",
    "    dtc1,\n",
    "    tr,\n",
    "    y,\n",
    "    scoring='roc_auc',\n",
    "    cv=10\n",
    ")"
   ]
  },
  {
   "cell_type": "code",
   "execution_count": 388,
   "metadata": {},
   "outputs": [],
   "source": [
    "import sys\n",
    "import time\n",
    "def show_progress(value):             # делаю простой прогресс бар\n",
    "    sys.stderr.write('%d\\r' % value)"
   ]
  },
  {
   "cell_type": "code",
   "execution_count": 280,
   "metadata": {},
   "outputs": [
    {
     "name": "stderr",
     "output_type": "stream",
     "text": [
      "9\r"
     ]
    },
    {
     "name": "stdout",
     "output_type": "stream",
     "text": [
      "0.9353036379529943 6\n"
     ]
    },
    {
     "name": "stderr",
     "output_type": "stream",
     "text": [
      "10\r"
     ]
    }
   ],
   "source": [
    "import numpy as nm\n",
    "mx = 0\n",
    "depth = 0\n",
    "for i in range(500):\n",
    "    dtc1 = DecisionTreeClassifier(max_depth=i+1, criterion = 'entropy')\n",
    "    arr = cross_val_score(\n",
    "        dtc1,\n",
    "        tr,\n",
    "        y,\n",
    "        scoring='roc_auc',\n",
    "        cv=10\n",
    "    )\n",
    "    m = nm.mean(arr)\n",
    "    if mx < m: \n",
    "        mx = m\n",
    "        depth = i+1\n",
    "    show_progress(i+1)\n",
    "        \n",
    "print(mx, depth)  # выводим лучший max_depth для дерева принятия решений"
   ]
  },
  {
   "cell_type": "code",
   "execution_count": 391,
   "metadata": {},
   "outputs": [
    {
     "name": "stderr",
     "output_type": "stream",
     "text": [
      "59\r"
     ]
    },
    {
     "name": "stdout",
     "output_type": "stream",
     "text": [
      "0.9291817902506038 58\n"
     ]
    },
    {
     "name": "stderr",
     "output_type": "stream",
     "text": [
      "60\r"
     ]
    }
   ],
   "source": [
    "mx = 0\n",
    "depth = 0\n",
    "for i in range(100):\n",
    "    knn1 = KNeighborsClassifier(n_neighbors=i+1) \n",
    "    arr = cross_val_score(\n",
    "        knn1,\n",
    "        tr,\n",
    "        y,\n",
    "        scoring='roc_auc',\n",
    "        cv=10\n",
    "    )\n",
    "    m = nm.mean(arr)\n",
    "    if mx < m: \n",
    "        mx = m\n",
    "        depth = i+1\n",
    "    show_progress(i+1)\n",
    "        \n",
    "print(mx, depth)  # выводим лучший n_neighbors для k ближайших соседей"
   ]
  },
  {
   "cell_type": "code",
   "execution_count": 284,
   "metadata": {},
   "outputs": [
    {
     "data": {
      "text/plain": [
       "0.922036499236112"
      ]
     },
     "execution_count": 284,
     "metadata": {},
     "output_type": "execute_result"
    }
   ],
   "source": [
    "lr1 = LogisticRegression()\n",
    "arr = cross_val_score(\n",
    "    lr1,\n",
    "    tr,\n",
    "    y,\n",
    "    scoring='roc_auc',\n",
    "    cv=10\n",
    ")\n",
    "nm.mean(arr)"
   ]
  },
  {
   "cell_type": "code",
   "execution_count": 285,
   "metadata": {},
   "outputs": [],
   "source": [
    "# выходит лучший результат показало дерево принятия решений с глубиной 6\n",
    "# а теперь во-первых обучим на полном наборе train-даных \n",
    "# а уже во вторых сделаем требуемый прогноз "
   ]
  },
  {
   "cell_type": "code",
   "execution_count": 370,
   "metadata": {},
   "outputs": [],
   "source": [
    "train = pd.read_csv('train.csv', index_col='_id')\n",
    "y = train['target']\n",
    "train = train.drop(['target','month','day_of_week'], axis=1)\n",
    "tr = pd.get_dummies(train)\n",
    "tr = tr.drop(['contact_telephone'], axis=1)\n",
    "\n",
    "test = pd.read_csv('test.csv', index_col='_id')\n",
    "test = test.drop(['month','day_of_week'], axis=1)\n",
    "tst = pd.get_dummies(test)\n",
    "tst = tst.drop(['contact_telephone'], axis=1)"
   ]
  },
  {
   "cell_type": "code",
   "execution_count": 371,
   "metadata": {},
   "outputs": [
    {
     "data": {
      "text/plain": [
       "KNeighborsClassifier(algorithm='auto', leaf_size=30, metric='minkowski',\n",
       "           metric_params=None, n_jobs=1, n_neighbors=77, p=2,\n",
       "           weights='uniform')"
      ]
     },
     "execution_count": 371,
     "metadata": {},
     "output_type": "execute_result"
    }
   ],
   "source": [
    "dtc_tst = DecisionTreeClassifier(max_depth=6, criterion = 'entropy')\n",
    "dtc_tst.fit(tr, y)\n",
    "\n",
    "lr_tst = LogisticRegression()\n",
    "lr_tst.fit(tr, y)\n",
    "\n",
    "knn_tst = KNeighborsClassifier(n_neighbors=77) \n",
    "knn_tst.fit(tr, y)"
   ]
  },
  {
   "cell_type": "code",
   "execution_count": 372,
   "metadata": {},
   "outputs": [],
   "source": [
    "predict_dtc = dtc_tst.predict(tst)\n",
    "predict_lr = lr_tst.predict(tst)\n",
    "predict_knn = knn_tst.predict(tst)"
   ]
  },
  {
   "cell_type": "code",
   "execution_count": 373,
   "metadata": {},
   "outputs": [],
   "source": [
    "#tst['target'] = predict_dtc\n",
    "#tst['target'] = predict_lr\n",
    "tst['target'] = predict_knn"
   ]
  },
  {
   "cell_type": "code",
   "execution_count": 374,
   "metadata": {},
   "outputs": [],
   "source": [
    "#result_dtc = tst[['target']]\n",
    "#result_lr = tst[['target']]\n",
    "result_knn = tst[['target']]"
   ]
  },
  {
   "cell_type": "code",
   "execution_count": 375,
   "metadata": {},
   "outputs": [],
   "source": [
    "#result_dtc.to_csv('result_dtc.csv')\n",
    "#result_lr.to_csv('result_lr.csv')\n",
    "result_knn.to_csv('result_knn.csv')"
   ]
  },
  {
   "cell_type": "code",
   "execution_count": null,
   "metadata": {},
   "outputs": [],
   "source": []
  }
 ],
 "metadata": {
  "kernelspec": {
   "display_name": "Python 3",
   "language": "python",
   "name": "python3"
  },
  "language_info": {
   "codemirror_mode": {
    "name": "ipython",
    "version": 3
   },
   "file_extension": ".py",
   "mimetype": "text/x-python",
   "name": "python",
   "nbconvert_exporter": "python",
   "pygments_lexer": "ipython3",
   "version": "3.6.4"
  }
 },
 "nbformat": 4,
 "nbformat_minor": 2
}
